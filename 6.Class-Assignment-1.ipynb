{
 "cells": [
  {
   "cell_type": "code",
   "execution_count": 3,
   "id": "e6c99e7e-dc9f-4c36-aa0e-6eaa0f4fb8a6",
   "metadata": {},
   "outputs": [],
   "source": [
    "class SubfieldsInAI():\n",
    "    def Subfields():\n",
    "        print(\"Sub-fields in AI are:\")\n",
    "        List=[\"Machine Learning\",\"Neural Networks\",\"Vision\",\"Robotics\",\"Speech Processing\",\"Natural Language Processing\"]\n",
    "        for i in List:\n",
    "            print(i)\n",
    "    "
   ]
  },
  {
   "cell_type": "code",
   "execution_count": 5,
   "id": "5f7147c0-6373-44b2-9356-b06f79d0435b",
   "metadata": {},
   "outputs": [
    {
     "name": "stdout",
     "output_type": "stream",
     "text": [
      "Sub-fields in AI are:\n",
      "Machine Learning\n",
      "Neural Networks\n",
      "Vision\n",
      "Robotics\n",
      "Speech Processing\n",
      "Natural Language Processing\n"
     ]
    }
   ],
   "source": [
    "SubfieldsInAI.Subfields()"
   ]
  },
  {
   "cell_type": "code",
   "execution_count": 16,
   "id": "7fff7604-438b-4c7a-be06-2e9fc1bcef0e",
   "metadata": {},
   "outputs": [],
   "source": [
    "class oddEven():\n",
    "    def oddEven():\n",
    "        num=int(input(\"Enter the number\"))\n",
    "        if((num % 2)== 0):\n",
    "            print(num,\"is even number\")\n",
    "        else:\n",
    "            print(num,\"is odd number\")"
   ]
  },
  {
   "cell_type": "code",
   "execution_count": 18,
   "id": "43fd0f2d-b095-4406-9300-2dee3962c8e5",
   "metadata": {},
   "outputs": [
    {
     "name": "stdin",
     "output_type": "stream",
     "text": [
      "Enter the number 52452\n"
     ]
    },
    {
     "name": "stdout",
     "output_type": "stream",
     "text": [
      "52452 is even number\n"
     ]
    }
   ],
   "source": [
    "oddeven.oddEven()"
   ]
  },
  {
   "cell_type": "code",
   "execution_count": 30,
   "id": "055491c6-4c85-4f50-8668-7b1708664fec",
   "metadata": {},
   "outputs": [],
   "source": [
    "class EligibilityForMarriage():\n",
    "    def MarriageEligibility():\n",
    "        Gender=input(\"Enter the Gender\")\n",
    "        Age=int(input(\"Enter the Age\"))\n",
    "        if ((Gender==\"Male\") & (Age>=21)):\n",
    "            print(\"ELIGIBLE\")\n",
    "        elif ((Gender==\"Female\") & (Age>=18)):\n",
    "            print(\"ELIGIBLE\")\n",
    "        else:\n",
    "            print(\"NOT ELIGIBLE\")"
   ]
  },
  {
   "cell_type": "code",
   "execution_count": 36,
   "id": "5f9c717f-1b88-4547-a84a-267bef92e1be",
   "metadata": {},
   "outputs": [
    {
     "name": "stdin",
     "output_type": "stream",
     "text": [
      "Enter the Gender Male\n",
      "Enter the Age 20\n"
     ]
    },
    {
     "name": "stdout",
     "output_type": "stream",
     "text": [
      "NOT ELIGIBLE\n"
     ]
    }
   ],
   "source": [
    "EligibilityForMarriage.MarriageEligibility()"
   ]
  },
  {
   "cell_type": "code",
   "execution_count": 44,
   "id": "51828f95-1131-472d-a3b7-0287e93f585e",
   "metadata": {},
   "outputs": [],
   "source": [
    "class Findpercentage():\n",
    "    def percentage():\n",
    "        Subject1=int(input(\"Enter the sub1\"))\n",
    "        Subject2=int(input(\"Enter the sub2\"))\n",
    "        Subject3=int(input(\"Enter the sub3\"))\n",
    "        Subject4=int(input(\"Enter the sub4\"))\n",
    "        Subject5=int(input(\"Enter the sub5\"))\n",
    "        Total=Subject1+Subject2+Subject3+Subject4+Subject5\n",
    "        print(\"Total:\",Total)\n",
    "        percentage=Total/5\n",
    "        print(\"percentage:\",percentage)"
   ]
  },
  {
   "cell_type": "code",
   "execution_count": 46,
   "id": "6625943c-92ca-4384-b184-0b5de730a5c0",
   "metadata": {},
   "outputs": [
    {
     "name": "stdin",
     "output_type": "stream",
     "text": [
      "Enter the sub1 98\n",
      "Enter the sub2 87\n",
      "Enter the sub3 95\n",
      "Enter the sub4 95\n",
      "Enter the sub5 93\n"
     ]
    },
    {
     "name": "stdout",
     "output_type": "stream",
     "text": [
      "Total: 468\n",
      "percentage: 93.6\n"
     ]
    }
   ],
   "source": [
    "Findpercentage.percentage()"
   ]
  },
  {
   "cell_type": "code",
   "execution_count": 59,
   "id": "b39b2255-9105-436a-b540-8c7ad0bc9899",
   "metadata": {},
   "outputs": [],
   "source": [
    "class triangle():\n",
    "    def triangle():\n",
    "        Height=int(input(\"Height1\"))\n",
    "        Breadth=int(input(\"Breadth1\"))\n",
    "        AreaFormula=(Height*Breadth)/2\n",
    "        print(\"AreaFormula:(Height*Breadth)/2\")\n",
    "        print(\"Area of Triangle:\",AreaFormula)\n",
    "        Height2=int(input(\"Height1\"))\n",
    "        Height3=int(input(\"Height2\"))\n",
    "        Breadth2=int(input(\"Breadth\"))\n",
    "        PerimeterFormula=Height2+Height3+Breadth2\n",
    "        print(\"PerimeterFormula:Height1+Height2+Breadth\")\n",
    "        print(\"Perimeter of Triangle:\",PerimeterFormula)"
   ]
  },
  {
   "cell_type": "code",
   "execution_count": 61,
   "id": "a1d66734-15a8-4d57-8408-f9befcaf84b9",
   "metadata": {},
   "outputs": [
    {
     "name": "stdin",
     "output_type": "stream",
     "text": [
      "Height1 32\n",
      "Breadth1 34\n"
     ]
    },
    {
     "name": "stdout",
     "output_type": "stream",
     "text": [
      "AreaFormula:(Height*Breadth)/2\n",
      "Area of Triangle: 544.0\n"
     ]
    },
    {
     "name": "stdin",
     "output_type": "stream",
     "text": [
      "Height1 2\n",
      "Height2 4\n",
      "Breadth 4\n"
     ]
    },
    {
     "name": "stdout",
     "output_type": "stream",
     "text": [
      "PerimeterFormula:Height1+Height2+Breadth\n",
      "Perimeter of Triangle: 10\n"
     ]
    }
   ],
   "source": [
    "triangle.triangle()"
   ]
  },
  {
   "cell_type": "code",
   "execution_count": null,
   "id": "0b9a2a3c-9ec8-41a7-9e6b-e0d4ad2afe02",
   "metadata": {},
   "outputs": [],
   "source": []
  }
 ],
 "metadata": {
  "kernelspec": {
   "display_name": "Python 3 (ipykernel)",
   "language": "python",
   "name": "python3"
  },
  "language_info": {
   "codemirror_mode": {
    "name": "ipython",
    "version": 3
   },
   "file_extension": ".py",
   "mimetype": "text/x-python",
   "name": "python",
   "nbconvert_exporter": "python",
   "pygments_lexer": "ipython3",
   "version": "3.12.4"
  }
 },
 "nbformat": 4,
 "nbformat_minor": 5
}
