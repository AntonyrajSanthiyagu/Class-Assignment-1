{
 "cells": [
  {
   "cell_type": "code",
   "execution_count": 11,
   "id": "65652956-a48b-4536-9096-d2c202702cd9",
   "metadata": {},
   "outputs": [],
   "source": [
    "class Multiplefunctions():\n",
    "    def Subfields():\n",
    "        print(\"Sub-fields in AI are:\")\n",
    "        List=[\"Machine Learning\",\"Neural Networks\",\"Vision\",\"Robotics\",\"Speech Processing\",\"Natural Language Processing\"]\n",
    "        for i in List:\n",
    "            print(i)\n",
    "\n",
    "    def oddEven():\n",
    "            num=int(input(\"Enter the number\"))\n",
    "            if((num % 2)== 0):\n",
    "                print(num,\"is even number\")\n",
    "            else:\n",
    "                print(num,\"is odd number\")\n",
    "\n",
    "    def MarriageEligibility():\n",
    "        Gender=input(\"Enter the Gender\")\n",
    "        Age=int(input(\"Enter the Age\"))\n",
    "        if ((Gender==\"Male\") & (Age>=21)):\n",
    "            print(\"ELIGIBLE\")\n",
    "        elif ((Gender==\"Female\") & (Age>=18)):\n",
    "            print(\"ELIGIBLE\")\n",
    "        else:\n",
    "            print(\"NOT ELIGIBLE\")\n",
    "\n",
    "    def percentage():\n",
    "            Subject1=int(input(\"Enter the sub1\"))\n",
    "            Subject2=int(input(\"Enter the sub2\"))\n",
    "            Subject3=int(input(\"Enter the sub3\"))\n",
    "            Subject4=int(input(\"Enter the sub4\"))\n",
    "            Subject5=int(input(\"Enter the sub5\"))\n",
    "            Total=Subject1+Subject2+Subject3+Subject4+Subject5\n",
    "            print(\"Total:\",Total)\n",
    "            percentage=Total/5\n",
    "            print(\"percentage:\",percentage)\n",
    "\n",
    "    def triangle():\n",
    "            Height=int(input(\"Height1\"))\n",
    "            Breadth=int(input(\"Breadth1\"))\n",
    "            AreaFormula=(Height*Breadth)/2\n",
    "            print(\"AreaFormula:(Height*Breadth)/2\")\n",
    "            print(\"Area of Triangle:\",AreaFormula)\n",
    "            Height2=int(input(\"Height1\"))\n",
    "            Height3=int(input(\"Height2\"))\n",
    "            Breadth2=int(input(\"Breadth\"))\n",
    "            PerimeterFormula=Height2+Height3+Breadth2\n",
    "            print(\"PerimeterFormula:Height1+Height2+Breadth\")\n",
    "            print(\"Perimeter of Triangle:\",PerimeterFormula)\n",
    "            "
   ]
  },
  {
   "cell_type": "code",
   "execution_count": 13,
   "id": "39d66e8d-c648-47a5-adde-b3a9f38686dc",
   "metadata": {},
   "outputs": [
    {
     "name": "stdout",
     "output_type": "stream",
     "text": [
      "Sub-fields in AI are:\n",
      "Machine Learning\n",
      "Neural Networks\n",
      "Vision\n",
      "Robotics\n",
      "Speech Processing\n",
      "Natural Language Processing\n"
     ]
    }
   ],
   "source": [
    "Multiplefunctions.Subfields()"
   ]
  },
  {
   "cell_type": "code",
   "execution_count": 15,
   "id": "8b52b547-b2f1-4dce-a135-7789fcadd472",
   "metadata": {},
   "outputs": [
    {
     "name": "stdin",
     "output_type": "stream",
     "text": [
      "Enter the number 25\n"
     ]
    },
    {
     "name": "stdout",
     "output_type": "stream",
     "text": [
      "25 is odd number\n"
     ]
    }
   ],
   "source": [
    "Multiplefunctions.oddEven()"
   ]
  },
  {
   "cell_type": "code",
   "execution_count": 17,
   "id": "13ebd926-a9f3-4b1a-be4b-54a2f7e93da0",
   "metadata": {},
   "outputs": [
    {
     "name": "stdin",
     "output_type": "stream",
     "text": [
      "Enter the Gender Male\n",
      "Enter the Age 24\n"
     ]
    },
    {
     "name": "stdout",
     "output_type": "stream",
     "text": [
      "ELIGIBLE\n"
     ]
    }
   ],
   "source": [
    "Multiplefunctions.MarriageEligibility()"
   ]
  },
  {
   "cell_type": "code",
   "execution_count": 19,
   "id": "beda692d-507e-4aaf-819d-20a44de271a8",
   "metadata": {},
   "outputs": [
    {
     "name": "stdin",
     "output_type": "stream",
     "text": [
      "Enter the sub1 85\n",
      "Enter the sub2 96\n",
      "Enter the sub3 75\n",
      "Enter the sub4 86\n",
      "Enter the sub5 75\n"
     ]
    },
    {
     "name": "stdout",
     "output_type": "stream",
     "text": [
      "Total: 417\n",
      "percentage: 83.4\n"
     ]
    }
   ],
   "source": [
    "Multiplefunctions.percentage()"
   ]
  },
  {
   "cell_type": "code",
   "execution_count": 21,
   "id": "a30da74a-d72d-4766-8891-dadd74eebcb6",
   "metadata": {},
   "outputs": [
    {
     "name": "stdin",
     "output_type": "stream",
     "text": [
      "Height1 42\n",
      "Breadth1 12\n"
     ]
    },
    {
     "name": "stdout",
     "output_type": "stream",
     "text": [
      "AreaFormula:(Height*Breadth)/2\n",
      "Area of Triangle: 252.0\n"
     ]
    },
    {
     "name": "stdin",
     "output_type": "stream",
     "text": [
      "Height1 24\n",
      "Height2 36\n",
      "Breadth 56\n"
     ]
    },
    {
     "name": "stdout",
     "output_type": "stream",
     "text": [
      "PerimeterFormula:Height1+Height2+Breadth\n",
      "Perimeter of Triangle: 116\n"
     ]
    }
   ],
   "source": [
    "Multiplefunctions.triangle()"
   ]
  },
  {
   "cell_type": "code",
   "execution_count": null,
   "id": "c26ecf1f-08dd-4e64-acae-9df59ebcf28b",
   "metadata": {},
   "outputs": [],
   "source": []
  }
 ],
 "metadata": {
  "kernelspec": {
   "display_name": "Python 3 (ipykernel)",
   "language": "python",
   "name": "python3"
  },
  "language_info": {
   "codemirror_mode": {
    "name": "ipython",
    "version": 3
   },
   "file_extension": ".py",
   "mimetype": "text/x-python",
   "name": "python",
   "nbconvert_exporter": "python",
   "pygments_lexer": "ipython3",
   "version": "3.12.4"
  }
 },
 "nbformat": 4,
 "nbformat_minor": 5
}
