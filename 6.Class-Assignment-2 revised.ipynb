{
 "cells": [
  {
   "cell_type": "code",
   "execution_count": 1,
   "id": "32049a36-a2be-464b-a79d-0a90c47bdc82",
   "metadata": {},
   "outputs": [],
   "source": [
    "from MultipleFunctionsClass import Multiplefunctions"
   ]
  },
  {
   "cell_type": "code",
   "execution_count": 3,
   "id": "2fd20f14-e05a-4a60-8a14-39a3ffe85a0f",
   "metadata": {},
   "outputs": [
    {
     "name": "stdout",
     "output_type": "stream",
     "text": [
      "Sub-fields in AI are:\n",
      "Machine Learning\n",
      "Neural Networks\n",
      "Vision\n",
      "Robotics\n",
      "Speech Processing\n",
      "Natural Language Processing\n"
     ]
    }
   ],
   "source": [
    "Multiplefunctions.Subfields()"
   ]
  },
  {
   "cell_type": "code",
   "execution_count": 5,
   "id": "92e36825-7b39-41ac-b263-8cc6f7a32e36",
   "metadata": {},
   "outputs": [
    {
     "name": "stdin",
     "output_type": "stream",
     "text": [
      "Enter the number 41\n"
     ]
    },
    {
     "name": "stdout",
     "output_type": "stream",
     "text": [
      "41 is odd number\n"
     ]
    }
   ],
   "source": [
    "Multiplefunctions.oddEven()"
   ]
  },
  {
   "cell_type": "code",
   "execution_count": 7,
   "id": "a0910082-5e6b-4adc-9611-54230e815843",
   "metadata": {},
   "outputs": [
    {
     "name": "stdin",
     "output_type": "stream",
     "text": [
      "Enter the Gender Male\n",
      "Enter the Age 24\n"
     ]
    },
    {
     "name": "stdout",
     "output_type": "stream",
     "text": [
      "ELIGIBLE\n"
     ]
    }
   ],
   "source": [
    "Multiplefunctions.MarriageEligibility()"
   ]
  },
  {
   "cell_type": "code",
   "execution_count": 9,
   "id": "fc8c1071-27c2-49de-a161-1724b0dec01b",
   "metadata": {},
   "outputs": [
    {
     "name": "stdin",
     "output_type": "stream",
     "text": [
      "Enter the sub1 89\n",
      "Enter the sub2 93\n",
      "Enter the sub3 87\n",
      "Enter the sub4 86\n",
      "Enter the sub5 99\n"
     ]
    },
    {
     "name": "stdout",
     "output_type": "stream",
     "text": [
      "Total: 454\n",
      "percentage: 90.8\n"
     ]
    }
   ],
   "source": [
    "Multiplefunctions.percentage()"
   ]
  },
  {
   "cell_type": "code",
   "execution_count": 11,
   "id": "1b4dff3c-3c2c-422d-88e3-3e497fb39d94",
   "metadata": {},
   "outputs": [
    {
     "name": "stdin",
     "output_type": "stream",
     "text": [
      "Height1 45\n",
      "Breadth1 36\n"
     ]
    },
    {
     "name": "stdout",
     "output_type": "stream",
     "text": [
      "AreaFormula:(Height*Breadth)/2\n",
      "Area of Triangle: 810.0\n"
     ]
    },
    {
     "name": "stdin",
     "output_type": "stream",
     "text": [
      "Height1 41\n",
      "Height2 22\n",
      "Breadth 23\n"
     ]
    },
    {
     "name": "stdout",
     "output_type": "stream",
     "text": [
      "PerimeterFormula:Height1+Height2+Breadth\n",
      "Perimeter of Triangle: 86\n"
     ]
    }
   ],
   "source": [
    "Multiplefunctions.triangle()"
   ]
  },
  {
   "cell_type": "code",
   "execution_count": null,
   "id": "22b0ec02-ec99-4e5b-a369-14c358c062aa",
   "metadata": {},
   "outputs": [],
   "source": []
  }
 ],
 "metadata": {
  "kernelspec": {
   "display_name": "Python 3 (ipykernel)",
   "language": "python",
   "name": "python3"
  },
  "language_info": {
   "codemirror_mode": {
    "name": "ipython",
    "version": 3
   },
   "file_extension": ".py",
   "mimetype": "text/x-python",
   "name": "python",
   "nbconvert_exporter": "python",
   "pygments_lexer": "ipython3",
   "version": "3.12.4"
  }
 },
 "nbformat": 4,
 "nbformat_minor": 5
}
