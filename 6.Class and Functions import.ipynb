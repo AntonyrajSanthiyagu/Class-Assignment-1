{
 "cells": [
  {
   "cell_type": "code",
   "execution_count": 23,
   "id": "acddcbe6-549d-4d93-bb31-686e908318e2",
   "metadata": {},
   "outputs": [
    {
     "name": "stdout",
     "output_type": "stream",
     "text": [
      "Sub-fields in AI are:\n",
      "Machine Learning\n",
      "Neural Networks\n",
      "Vision\n",
      "Robotics\n",
      "Speech Processing\n",
      "Natural Language Processing\n"
     ]
    }
   ],
   "source": [
    "Multiplefunctions.Subfields()"
   ]
  },
  {
   "cell_type": "code",
   "execution_count": 25,
   "id": "4b51f67b-447b-4745-ba17-ccdd9d20f106",
   "metadata": {},
   "outputs": [
    {
     "name": "stdin",
     "output_type": "stream",
     "text": [
      "Enter the number 42\n"
     ]
    },
    {
     "name": "stdout",
     "output_type": "stream",
     "text": [
      "42 is even number\n"
     ]
    }
   ],
   "source": [
    "Multiplefunctions.oddEven()"
   ]
  },
  {
   "cell_type": "code",
   "execution_count": 27,
   "id": "f9a8b704-ce66-431e-bd65-9693a8b3678d",
   "metadata": {},
   "outputs": [
    {
     "name": "stdin",
     "output_type": "stream",
     "text": [
      "Enter the Gender Female\n",
      "Enter the Age 21\n"
     ]
    },
    {
     "name": "stdout",
     "output_type": "stream",
     "text": [
      "ELIGIBLE\n"
     ]
    }
   ],
   "source": [
    "Multiplefunctions.MarriageEligibility()"
   ]
  },
  {
   "cell_type": "code",
   "execution_count": 29,
   "id": "992cfbdc-bf16-4aaf-8696-bdda59782502",
   "metadata": {},
   "outputs": [
    {
     "name": "stdin",
     "output_type": "stream",
     "text": [
      "Enter the sub1 86\n",
      "Enter the sub2 95\n",
      "Enter the sub3 89\n",
      "Enter the sub4 78\n",
      "Enter the sub5 92\n"
     ]
    },
    {
     "name": "stdout",
     "output_type": "stream",
     "text": [
      "Total: 440\n",
      "percentage: 88.0\n"
     ]
    }
   ],
   "source": [
    "Multiplefunctions.percentage()"
   ]
  },
  {
   "cell_type": "code",
   "execution_count": 31,
   "id": "cec93e8e-bd39-436b-b81a-e8c72d736d75",
   "metadata": {},
   "outputs": [
    {
     "name": "stdin",
     "output_type": "stream",
     "text": [
      "Height1 24\n",
      "Breadth1 35\n"
     ]
    },
    {
     "name": "stdout",
     "output_type": "stream",
     "text": [
      "AreaFormula:(Height*Breadth)/2\n",
      "Area of Triangle: 420.0\n"
     ]
    },
    {
     "name": "stdin",
     "output_type": "stream",
     "text": [
      "Height1 4\n",
      "Height2 6\n",
      "Breadth 8\n"
     ]
    },
    {
     "name": "stdout",
     "output_type": "stream",
     "text": [
      "PerimeterFormula:Height1+Height2+Breadth\n",
      "Perimeter of Triangle: 18\n"
     ]
    }
   ],
   "source": [
    "Multiplefunctions.triangle()"
   ]
  },
  {
   "cell_type": "code",
   "execution_count": null,
   "id": "d0c858eb-cc31-494a-ad2c-65bb6e2b5d25",
   "metadata": {},
   "outputs": [],
   "source": []
  }
 ],
 "metadata": {
  "kernelspec": {
   "display_name": "Python 3 (ipykernel)",
   "language": "python",
   "name": "python3"
  },
  "language_info": {
   "codemirror_mode": {
    "name": "ipython",
    "version": 3
   },
   "file_extension": ".py",
   "mimetype": "text/x-python",
   "name": "python",
   "nbconvert_exporter": "python",
   "pygments_lexer": "ipython3",
   "version": "3.12.4"
  }
 },
 "nbformat": 4,
 "nbformat_minor": 5
}
